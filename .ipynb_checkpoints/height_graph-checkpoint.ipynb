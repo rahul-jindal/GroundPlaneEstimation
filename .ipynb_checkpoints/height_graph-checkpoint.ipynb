{
 "metadata": {
  "name": "",
  "signature": "sha256:00e52fcc723c2687219b86113fcbb54f826386c8f292d9ce404efd4945eaa7c6"
 },
 "nbformat": 3,
 "nbformat_minor": 0,
 "worksheets": [
  {
   "cells": [
    {
     "cell_type": "code",
     "collapsed": false,
     "input": [
      "import numpy as np\n",
      "import matplotlib.pyplot as plt"
     ],
     "language": "python",
     "metadata": {},
     "outputs": [],
     "prompt_number": 105
    },
    {
     "cell_type": "code",
     "collapsed": false,
     "input": [
      "file = open(\"./src/height_za_zb.txt\", \"r\")"
     ],
     "language": "python",
     "metadata": {},
     "outputs": [],
     "prompt_number": 106
    },
    {
     "cell_type": "code",
     "collapsed": false,
     "input": [
      "height = []\n",
      "for line in file:\n",
      "    line = (repr(line.strip()))\n",
      "    columns = line.split()\n",
      "    height.append((columns[5].strip(\"'\")))"
     ],
     "language": "python",
     "metadata": {},
     "outputs": [],
     "prompt_number": 107
    },
    {
     "cell_type": "code",
     "collapsed": false,
     "input": [
      "print ((height))"
     ],
     "language": "python",
     "metadata": {},
     "outputs": [
      {
       "output_type": "stream",
       "stream": "stdout",
       "text": [
        "['1.58054', '1.57542', '1.57984', '1.58238', '1.57806', '1.58099', '1.58023', '1.58006', '1.57974', '1.57981', '1.58003', '1.57997', '1.58007', '1.57999', '1.58001', '1.57995', '1.58006', '1.57994', '1.58002', '1.58002', '1.58003', '1.57993', '1.57998', '1.58002', '1.57995', '1.58009', '1.58003', '1.58001', '1.57957', '1.57985', '1.58026', '1.57988', '1.58037', '1.5794', '1.58053', '1.57899', '1.58101', '1.57972', '1.57935', '1.58002', '1.58046', '1.58057', '1.58041', '1.57824', '1.58095', '1.58018', '1.58105', '1.57987', '1.57857', '1.57898', '1.58154', '1.57994', '1.58049', '1.58099', '1.57923', '1.57978', '1.57797', '1.58087', '1.58168', '1.57989', '1.58076', '1.57921', '1.58002', '1.58127', '1.57981', '1.57829', '1.57965', '1.58138', '1.57715', '1.58206', '1.58111', '1.57699', '1.57916', '1.58183', '1.58133', '1.57732', '1.58035', '1.58017', '1.58363', '1.58002', '1.57634', '1.58023', '1.58066', '1.57733', '1.58191', '1.58287', '1.57524', '1.58519', '1.5779', '1.5793', '1.58085', '1.57776', '1.57979', '1.58191', '1.57919', '1.58172', '1.57961', '1.58229', '1.58018', '1.5779']\n"
       ]
      }
     ],
     "prompt_number": 113
    },
    {
     "cell_type": "code",
     "collapsed": false,
     "input": [
      "x=np.arange(0,100)\n",
      "print (x)"
     ],
     "language": "python",
     "metadata": {},
     "outputs": [
      {
       "output_type": "stream",
       "stream": "stdout",
       "text": [
        "[ 0  1  2  3  4  5  6  7  8  9 10 11 12 13 14 15 16 17 18 19 20 21 22 23 24\n",
        " 25 26 27 28 29 30 31 32 33 34 35 36 37 38 39 40 41 42 43 44 45 46 47 48 49\n",
        " 50 51 52 53 54 55 56 57 58 59 60 61 62 63 64 65 66 67 68 69 70 71 72 73 74\n",
        " 75 76 77 78 79 80 81 82 83 84 85 86 87 88 89 90 91 92 93 94 95 96 97 98 99]\n"
       ]
      }
     ],
     "prompt_number": 112
    },
    {
     "cell_type": "code",
     "collapsed": false,
     "input": [
      "plt.plot(x, height)\n",
      "plt.show()"
     ],
     "language": "python",
     "metadata": {},
     "outputs": [],
     "prompt_number": 115
    },
    {
     "cell_type": "code",
     "collapsed": false,
     "input": [],
     "language": "python",
     "metadata": {},
     "outputs": []
    }
   ],
   "metadata": {}
  }
 ]
}